{
 "cells": [
  {
   "cell_type": "code",
   "execution_count": 5,
   "metadata": {},
   "outputs": [
    {
     "name": "stdout",
     "output_type": "stream",
     "text": [
      "Collecting matplotlib\n",
      "  Using cached https://files.pythonhosted.org/packages/e9/69/f5e05f578585ed9935247be3788b374f90701296a70c8871bcd6d21edb00/matplotlib-3.0.3-cp36-cp36m-manylinux1_x86_64.whl\n",
      "Collecting cycler>=0.10 (from matplotlib)\n",
      "  Using cached https://files.pythonhosted.org/packages/f7/d2/e07d3ebb2bd7af696440ce7e754c59dd546ffe1bbe732c8ab68b9c834e61/cycler-0.10.0-py2.py3-none-any.whl\n",
      "Collecting python-dateutil>=2.1 (from matplotlib)\n",
      "  Using cached https://files.pythonhosted.org/packages/41/17/c62faccbfbd163c7f57f3844689e3a78bae1f403648a6afb1d0866d87fbb/python_dateutil-2.8.0-py2.py3-none-any.whl\n",
      "Collecting pyparsing!=2.0.4,!=2.1.2,!=2.1.6,>=2.0.1 (from matplotlib)\n",
      "  Using cached https://files.pythonhosted.org/packages/dd/d9/3ec19e966301a6e25769976999bd7bbe552016f0d32b577dc9d63d2e0c49/pyparsing-2.4.0-py2.py3-none-any.whl\n",
      "Collecting numpy>=1.10.0 (from matplotlib)\n",
      "  Using cached https://files.pythonhosted.org/packages/c1/e2/4db8df8f6cddc98e7d7c537245ef2f4e41a1ed17bf0c3177ab3cc6beac7f/numpy-1.16.3-cp36-cp36m-manylinux1_x86_64.whl\n",
      "Collecting kiwisolver>=1.0.1 (from matplotlib)\n",
      "  Using cached https://files.pythonhosted.org/packages/f8/a1/5742b56282449b1c0968197f63eae486eca2c35dcd334bab75ad524e0de1/kiwisolver-1.1.0-cp36-cp36m-manylinux1_x86_64.whl\n",
      "Collecting six (from cycler>=0.10->matplotlib)\n",
      "  Using cached https://files.pythonhosted.org/packages/73/fb/00a976f728d0d1fecfe898238ce23f502a721c0ac0ecfedb80e0d88c64e9/six-1.12.0-py2.py3-none-any.whl\n",
      "Collecting setuptools (from kiwisolver>=1.0.1->matplotlib)\n",
      "  Using cached https://files.pythonhosted.org/packages/ec/51/f45cea425fd5cb0b0380f5b0f048ebc1da5b417e48d304838c02d6288a1e/setuptools-41.0.1-py2.py3-none-any.whl\n",
      "Installing collected packages: six, cycler, python-dateutil, pyparsing, numpy, setuptools, kiwisolver, matplotlib\n",
      "Successfully installed cycler-0.10.0 kiwisolver-1.1.0 matplotlib-3.0.3 numpy-1.16.3 pyparsing-2.4.0 python-dateutil-2.8.0 setuptools-41.0.1 six-1.12.0\n"
     ]
    }
   ],
   "source": [
    "!pip3 install matplotlib"
   ]
  },
  {
   "cell_type": "code",
   "execution_count": 6,
   "metadata": {},
   "outputs": [
    {
     "name": "stdout",
     "output_type": "stream",
     "text": [
      "Collecting sklearn\n",
      "  Downloading https://files.pythonhosted.org/packages/1e/7a/dbb3be0ce9bd5c8b7e3d87328e79063f8b263b2b1bfa4774cb1147bfcd3f/sklearn-0.0.tar.gz\n",
      "Collecting scikit-learn (from sklearn)\n",
      "  Downloading https://files.pythonhosted.org/packages/b7/6c/ec121123c671d980c6969dfc69d0f09e1d7f88d80d373f511e61d773b85c/scikit_learn-0.21.0-cp36-cp36m-manylinux1_x86_64.whl (6.6MB)\n",
      "\u001b[K    100% |████████████████████████████████| 6.6MB 78kB/s eta 0:00:01    55% |█████████████████▋              | 3.7MB 132kB/s eta 0:00:23\n",
      "\u001b[?25hCollecting scipy>=0.17.0 (from scikit-learn->sklearn)\n",
      "  Downloading https://files.pythonhosted.org/packages/7f/5f/c48860704092933bf1c4c1574a8de1ffd16bf4fde8bab190d747598844b2/scipy-1.2.1-cp36-cp36m-manylinux1_x86_64.whl (24.8MB)\n",
      "\u001b[K    100% |████████████████████████████████| 24.8MB 44kB/s eta 0:00:01  1% |▋                               | 460kB 204kB/s eta 0:02:00    58% |██████████████████▊             | 14.5MB 200kB/s eta 0:00:52    70% |██████████████████████▌         | 17.5MB 377kB/s eta 0:00:20    79% |█████████████████████████▌      | 19.7MB 297kB/s eta 0:00:18\n",
      "\u001b[?25hCollecting joblib>=0.11 (from scikit-learn->sklearn)\n",
      "  Downloading https://files.pythonhosted.org/packages/cd/c1/50a758e8247561e58cb87305b1e90b171b8c767b15b12a1734001f41d356/joblib-0.13.2-py2.py3-none-any.whl (278kB)\n",
      "\u001b[K    100% |████████████████████████████████| 286kB 85kB/s ta 0:00:011\n",
      "\u001b[?25hCollecting numpy>=1.11.0 (from scikit-learn->sklearn)\n",
      "  Using cached https://files.pythonhosted.org/packages/c1/e2/4db8df8f6cddc98e7d7c537245ef2f4e41a1ed17bf0c3177ab3cc6beac7f/numpy-1.16.3-cp36-cp36m-manylinux1_x86_64.whl\n",
      "Building wheels for collected packages: sklearn\n",
      "  Running setup.py bdist_wheel for sklearn ... \u001b[?25ldone\n",
      "\u001b[?25h  Stored in directory: /home/keline/.cache/pip/wheels/76/03/bb/589d421d27431bcd2c6da284d5f2286c8e3b2ea3cf1594c074\n",
      "Successfully built sklearn\n",
      "Installing collected packages: numpy, scipy, joblib, scikit-learn, sklearn\n",
      "Successfully installed joblib-0.13.2 numpy-1.16.3 scikit-learn-0.21.0 scipy-1.2.1 sklearn-0.0\n"
     ]
    }
   ],
   "source": [
    "!pip3 install sklearn"
   ]
  },
  {
   "cell_type": "code",
   "execution_count": 2,
   "metadata": {},
   "outputs": [
    {
     "data": {
      "text/plain": [
       "<Figure size 640x480 with 1 Axes>"
      ]
     },
     "metadata": {},
     "output_type": "display_data"
    }
   ],
   "source": [
    "#iris dataset: Conjunto de dados consistem em 3 tipos diferentes de pétalas de íris (Setosa, Versicolour e Virginica) \n",
    "#e comprimento da sépala, armazenados em um numpy 150x4.\n",
    "\n",
    "#dados\n",
    "from sklearn import datasets\n",
    "#plot\n",
    "import matplotlib.pyplot as plt\n",
    "\n",
    "iris = datasets.load_iris()\n",
    "X = iris.data[:, 2:]  # as duas primeiras caracteristicas\n",
    "y = iris.target #classificacao\n",
    "#0 Comprimento da sépala; 1 Largura da sépala; 2 comprimento da pétala; Largura da pétala \n",
    "#setosa, versicolor, virginica\n",
    "plt.subplots()\n",
    "plt.scatter(X[:, 0], X[:, 1], c=y, cmap=plt.cm.Set1)\n",
    "plt.xlabel('Comprimento Sepala')\n",
    "plt.ylabel('Largura Sepala')\n",
    "plt.grid(True)\n",
    "plt.show()\n"
   ]
  },
  {
   "cell_type": "code",
   "execution_count": 3,
   "metadata": {},
   "outputs": [
    {
     "name": "stdout",
     "output_type": "stream",
     "text": [
      "6.45\n"
     ]
    }
   ],
   "source": [
    "import math\n",
    "\n",
    "x1 = [1.2, 2, 3.8, 4.5]\n",
    "x2 = [0.5, 4.5, 9.6, 3.4]\n",
    "\n",
    "def distanciaeuclidiana(x1, x2):\n",
    "    dim, soma = len(x1), 0\n",
    "    for i in range(dim):\n",
    "        soma += math.pow(x1[i] - x2[i], 2)\n",
    "    return math.sqrt(soma)\n",
    "\n",
    "print('%.2f' % distanciaeuclidiana(x1, x2))\n",
    "    \n",
    "    "
   ]
  },
  {
   "cell_type": "code",
   "execution_count": 4,
   "metadata": {},
   "outputs": [
    {
     "name": "stdout",
     "output_type": "stream",
     "text": [
      "150\n",
      "2\n",
      "range(0, 150)\n",
      "[5.1 3.5]\n",
      "[4.9 3. ]\n",
      "[4.7 3.2]\n",
      "[4.6 3.1]\n",
      "[5.  3.6]\n",
      "[5.4 3.9]\n",
      "[4.6 3.4]\n",
      "[5.  3.4]\n",
      "[4.4 2.9]\n",
      "[4.9 3.1]\n",
      "[5.4 3.7]\n",
      "[4.8 3.4]\n",
      "[4.8 3. ]\n",
      "[4.3 3. ]\n",
      "[5.8 4. ]\n",
      "[5.7 4.4]\n",
      "[5.4 3.9]\n",
      "[5.1 3.5]\n",
      "[5.7 3.8]\n",
      "[5.1 3.8]\n",
      "[5.4 3.4]\n",
      "[5.1 3.7]\n",
      "[4.6 3.6]\n",
      "[5.1 3.3]\n",
      "[4.8 3.4]\n",
      "[5. 3.]\n",
      "[5.  3.4]\n",
      "[5.2 3.5]\n",
      "[5.2 3.4]\n",
      "[4.7 3.2]\n",
      "[4.8 3.1]\n",
      "[5.4 3.4]\n",
      "[5.2 4.1]\n",
      "[5.5 4.2]\n",
      "[4.9 3.1]\n",
      "[5.  3.2]\n",
      "[5.5 3.5]\n",
      "[4.9 3.6]\n",
      "[4.4 3. ]\n",
      "[5.1 3.4]\n",
      "[5.  3.5]\n",
      "[4.5 2.3]\n",
      "[4.4 3.2]\n",
      "[5.  3.5]\n",
      "[5.1 3.8]\n",
      "[4.8 3. ]\n",
      "[5.1 3.8]\n",
      "[4.6 3.2]\n",
      "[5.3 3.7]\n",
      "[5.  3.3]\n",
      "[7.  3.2]\n",
      "[6.4 3.2]\n",
      "[6.9 3.1]\n",
      "[5.5 2.3]\n",
      "[6.5 2.8]\n",
      "[5.7 2.8]\n",
      "[6.3 3.3]\n",
      "[4.9 2.4]\n",
      "[6.6 2.9]\n",
      "[5.2 2.7]\n",
      "[5. 2.]\n",
      "[5.9 3. ]\n",
      "[6.  2.2]\n",
      "[6.1 2.9]\n",
      "[5.6 2.9]\n",
      "[6.7 3.1]\n",
      "[5.6 3. ]\n",
      "[5.8 2.7]\n",
      "[6.2 2.2]\n",
      "[5.6 2.5]\n",
      "[5.9 3.2]\n",
      "[6.1 2.8]\n",
      "[6.3 2.5]\n",
      "[6.1 2.8]\n",
      "[6.4 2.9]\n",
      "[6.6 3. ]\n",
      "[6.8 2.8]\n",
      "[6.7 3. ]\n",
      "[6.  2.9]\n",
      "[5.7 2.6]\n",
      "[5.5 2.4]\n",
      "[5.5 2.4]\n",
      "[5.8 2.7]\n",
      "[6.  2.7]\n",
      "[5.4 3. ]\n",
      "[6.  3.4]\n",
      "[6.7 3.1]\n",
      "[6.3 2.3]\n",
      "[5.6 3. ]\n",
      "[5.5 2.5]\n",
      "[5.5 2.6]\n",
      "[6.1 3. ]\n",
      "[5.8 2.6]\n",
      "[5.  2.3]\n",
      "[5.6 2.7]\n",
      "[5.7 3. ]\n",
      "[5.7 2.9]\n",
      "[6.2 2.9]\n",
      "[5.1 2.5]\n",
      "[5.7 2.8]\n",
      "[6.3 3.3]\n",
      "[5.8 2.7]\n",
      "[7.1 3. ]\n",
      "[6.3 2.9]\n",
      "[6.5 3. ]\n",
      "[7.6 3. ]\n",
      "[4.9 2.5]\n",
      "[7.3 2.9]\n",
      "[6.7 2.5]\n",
      "[7.2 3.6]\n",
      "[6.5 3.2]\n",
      "[6.4 2.7]\n",
      "[6.8 3. ]\n",
      "[5.7 2.5]\n",
      "[5.8 2.8]\n",
      "[6.4 3.2]\n",
      "[6.5 3. ]\n",
      "[7.7 3.8]\n",
      "[7.7 2.6]\n",
      "[6.  2.2]\n",
      "[6.9 3.2]\n",
      "[5.6 2.8]\n",
      "[7.7 2.8]\n",
      "[6.3 2.7]\n",
      "[6.7 3.3]\n",
      "[7.2 3.2]\n",
      "[6.2 2.8]\n",
      "[6.1 3. ]\n",
      "[6.4 2.8]\n",
      "[7.2 3. ]\n",
      "[7.4 2.8]\n",
      "[7.9 3.8]\n",
      "[6.4 2.8]\n",
      "[6.3 2.8]\n",
      "[6.1 2.6]\n",
      "[7.7 3. ]\n",
      "[6.3 3.4]\n",
      "[6.4 3.1]\n",
      "[6. 3.]\n",
      "[6.9 3.1]\n",
      "[6.7 3.1]\n",
      "[6.9 3.1]\n",
      "[5.8 2.7]\n",
      "[6.8 3.2]\n",
      "[6.7 3.3]\n",
      "[6.7 3. ]\n",
      "[6.3 2.5]\n",
      "[6.5 3. ]\n",
      "[6.2 3.4]\n",
      "[5.9 3. ]\n"
     ]
    }
   ],
   "source": [
    "x = iris.data[:, :2]\n",
    "numrows = len(x)\n",
    "numcol = len(x[0])\n",
    "print(numrows)\n",
    "print(numcol)\n",
    "print(range(150))\n",
    "for linha in range(numrows):\n",
    "    print(x[linha,:] )"
   ]
  },
  {
   "cell_type": "code",
   "execution_count": 5,
   "metadata": {},
   "outputs": [],
   "source": [
    "xt = x[45:, :]\n",
    "xv = x[0:45, :]"
   ]
  },
  {
   "cell_type": "code",
   "execution_count": 6,
   "metadata": {},
   "outputs": [
    {
     "name": "stdout",
     "output_type": "stream",
     "text": [
      "[0 0 0 0 0 0 0 0 0 0 0 0 0 0 0 0 0 0 0 0 0 0 0 0 0 0 0 0 0 0 0 0 0 0 0 0 0\n",
      " 0 0 0 0 0 0 0 0 0 0 0 0 0 1 1 1 1 1 1 1 1 1 1 1 1 1 1 1 1 1 1 1 1 1 1 1 1\n",
      " 1 1 1 1 1 1 1 1 1 1 1 1 1 1 1 1 1 1 1 1 1 1 1 1 1 1 2 2 2 2 2 2 2 2 2 2 2\n",
      " 2 2 2 2 2 2 2 2 2 2 2 2 2 2 2 2 2 2 2 2 2 2 2 2 2 2 2 2 2 2 2 2 2 2 2 2 2\n",
      " 2 2]\n"
     ]
    }
   ],
   "source": [
    "yt = y[45:]\n",
    "yv = y[0:45]\n",
    "print(y)"
   ]
  },
  {
   "cell_type": "code",
   "execution_count": 7,
   "metadata": {},
   "outputs": [
    {
     "name": "stdout",
     "output_type": "stream",
     "text": [
      "105\n"
     ]
    }
   ],
   "source": [
    "rowsxt = len(xt)\n",
    "print(rowsxt)"
   ]
  },
  {
   "cell_type": "code",
   "execution_count": 8,
   "metadata": {},
   "outputs": [
    {
     "name": "stdout",
     "output_type": "stream",
     "text": [
      "45\n"
     ]
    }
   ],
   "source": [
    "rowsxv = len(xv)\n",
    "print(rowsxv)"
   ]
  },
  {
   "cell_type": "code",
   "execution_count": 9,
   "metadata": {},
   "outputs": [
    {
     "name": "stdout",
     "output_type": "stream",
     "text": [
      "Classe predita 0\n",
      "Classe real 0\n",
      "Classe predita 0\n",
      "Classe real 0\n",
      "Classe predita 0\n",
      "Classe real 0\n",
      "Classe predita 0\n",
      "Classe real 0\n",
      "Classe predita 0\n",
      "Classe real 0\n",
      "Classe predita 0\n",
      "Classe real 0\n",
      "Classe predita 0\n",
      "Classe real 0\n",
      "Classe predita 0\n",
      "Classe real 0\n",
      "Classe predita 0\n",
      "Classe real 0\n",
      "Classe predita 0\n",
      "Classe real 0\n",
      "Classe predita 0\n",
      "Classe real 0\n",
      "Classe predita 0\n",
      "Classe real 0\n",
      "Classe predita 0\n",
      "Classe real 0\n",
      "Classe predita 0\n",
      "Classe real 0\n",
      "Classe predita 0\n",
      "Classe real 0\n",
      "Classe predita 0\n",
      "Classe real 0\n",
      "Classe predita 0\n",
      "Classe real 0\n",
      "Classe predita 0\n",
      "Classe real 0\n",
      "Classe predita 0\n",
      "Classe real 0\n",
      "Classe predita 0\n",
      "Classe real 0\n",
      "Classe predita 1\n",
      "Classe real 0\n",
      "Classe predita 0\n",
      "Classe real 0\n",
      "Classe predita 0\n",
      "Classe real 0\n",
      "Classe predita 0\n",
      "Classe real 0\n",
      "Classe predita 0\n",
      "Classe real 0\n",
      "Classe predita 0\n",
      "Classe real 0\n",
      "Classe predita 0\n",
      "Classe real 0\n",
      "Classe predita 0\n",
      "Classe real 0\n",
      "Classe predita 0\n",
      "Classe real 0\n",
      "Classe predita 0\n",
      "Classe real 0\n",
      "Classe predita 0\n",
      "Classe real 0\n",
      "Classe predita 1\n",
      "Classe real 0\n",
      "Classe predita 0\n",
      "Classe real 0\n",
      "Classe predita 0\n",
      "Classe real 0\n",
      "Classe predita 0\n",
      "Classe real 0\n",
      "Classe predita 0\n",
      "Classe real 0\n",
      "Classe predita 1\n",
      "Classe real 0\n",
      "Classe predita 0\n",
      "Classe real 0\n",
      "Classe predita 0\n",
      "Classe real 0\n",
      "Classe predita 0\n",
      "Classe real 0\n",
      "Classe predita 0\n",
      "Classe real 0\n",
      "Classe predita 1\n",
      "Classe real 0\n",
      "Classe predita 0\n",
      "Classe real 0\n",
      "Classe predita 0\n",
      "Classe real 0\n",
      "Classe predita 0\n",
      "Classe real 0\n"
     ]
    }
   ],
   "source": [
    "import numpy as np\n",
    "from scipy import stats\n",
    "k = 5\n",
    "dist = np.zeros([rowsxt, 1])\n",
    "yordenado = np.zeros([k, 1])\n",
    "for linhaxv in range(rowsxv):\n",
    "    for linhaxt in range(rowsxt):\n",
    "        dist[linhaxt] = distanciaeuclidiana(xv[linhaxv,:], xt[linhaxt,:])\n",
    "    #print(dist)\n",
    "    indices = np.argsort(dist, axis=0)\n",
    "    #print(indices)\n",
    "    for i in range(0, k):\n",
    "        yordenado[i]=yt[indices[i]]\n",
    "    #print(yordenado)\n",
    "    m = stats.mode(yordenado) \n",
    "    classe = m[0]\n",
    "    print (\"Classe predita %d\" % (m[0]))\n",
    "    print (\"Classe real %d\" % (yv[linhaxv]))\n",
    "    #print(ycalculado[0])\n",
    "    \n",
    "    "
   ]
  },
  {
   "cell_type": "code",
   "execution_count": 10,
   "metadata": {},
   "outputs": [
    {
     "name": "stdout",
     "output_type": "stream",
     "text": [
      "[0 0 0 0 0 0 0 0 0 0 0 0 0 0 0 0 0 0 0 0 0 0 0 0 0 0 0 0 0 0 0 0 0 0 0 0 0\n",
      " 0 0 0 0 0 0 0 0]\n"
     ]
    }
   ],
   "source": [
    "print (yv)"
   ]
  },
  {
   "cell_type": "code",
   "execution_count": null,
   "metadata": {},
   "outputs": [],
   "source": []
  },
  {
   "cell_type": "code",
   "execution_count": null,
   "metadata": {},
   "outputs": [],
   "source": []
  }
 ],
 "metadata": {
  "kernelspec": {
   "display_name": "Python 3",
   "language": "python",
   "name": "python3"
  },
  "language_info": {
   "codemirror_mode": {
    "name": "ipython",
    "version": 3
   },
   "file_extension": ".py",
   "mimetype": "text/x-python",
   "name": "python",
   "nbconvert_exporter": "python",
   "pygments_lexer": "ipython3",
   "version": "3.6.7"
  }
 },
 "nbformat": 4,
 "nbformat_minor": 2
}
